{
 "cells": [
  {
   "cell_type": "code",
   "execution_count": 23,
   "metadata": {},
   "outputs": [],
   "source": [
    "import pandas as pd\n",
    "import numpy as np\n",
    "import tensorflow\n",
    "import math\n",
    "from sklearn.preprocessing import MinMaxScaler\n",
    "from keras.models import Sequential\n",
    "from keras.layers import LSTM, Dense, Dropout\n",
    "import matplotlib.pyplot as plt\n",
    "plt.style.use('fivethirtyeight')"
   ]
  },
  {
   "cell_type": "code",
   "execution_count": 24,
   "metadata": {},
   "outputs": [],
   "source": [
    "from turtle import resizemode\n",
    "from xmlrpc.client import ResponseError\n",
    "import requests\n",
    "start=input()\n",
    "end=input()\n",
    "s=input()\n",
    "stocks=input()\n",
    "\n",
    "url='https://api.polygon.io/v2/aggs/ticker/'+stocks+'/range/1/day/'+start+'/'+end+'?adjusted=true&sort=asc&limit=120&apiKey=GDEJQ4fBwwBsjfzoj_YhExmTC2h170rr'\n",
    "response = requests.request(\"GET\", url).json()\n",
    "\n",
    "df=pd.DataFrame(response['results'])"
   ]
  },
  {
   "cell_type": "code",
   "execution_count": 25,
   "id": "2a85dec9",
   "metadata": {},
   "outputs": [],
   "source": [
    "# df=web.DataReader('AAPL', data_source='yahoo',start='2012-01-03',end='2019-12-17')\n"
   ]
  },
  {
   "cell_type": "code",
   "execution_count": 26,
   "id": "6e2cfdc7",
   "metadata": {},
   "outputs": [],
   "source": [
    "data=df[s]\n",
    "cdf=data.values\n",
    "eig=math.ceil(len(cdf)*0.8)\n",
    "cdf=cdf.reshape(-1,1)\n"
   ]
  },
  {
   "cell_type": "code",
   "execution_count": 27,
   "id": "675b1c99",
   "metadata": {},
   "outputs": [],
   "source": [
    "scaler=MinMaxScaler(feature_range=(0,1))\n",
    "cdf=scaler.fit_transform(cdf)\n",
    "train_data=cdf[0:eig,:]"
   ]
  },
  {
   "cell_type": "code",
   "execution_count": 28,
   "id": "1e44e2f1",
   "metadata": {},
   "outputs": [],
   "source": [
    "x_train=[]\n",
    "y_train=[]\n",
    "\n",
    "for i in range(60, len(train_data)):\n",
    "    x_train.append(train_data[i-60:i, 0])\n",
    "    y_train.append(train_data[i,0])\n",
    "x_train, y_train=np.array(x_train), np.array(y_train)    "
   ]
  },
  {
   "cell_type": "code",
   "execution_count": 29,
   "id": "033b2be1",
   "metadata": {},
   "outputs": [
    {
     "data": {
      "text/plain": [
       "(36, 60, 1)"
      ]
     },
     "execution_count": 29,
     "metadata": {},
     "output_type": "execute_result"
    }
   ],
   "source": [
    "x_train=np.reshape(x_train,(x_train.shape[0],x_train.shape[1],1))\n",
    "x_train.shape"
   ]
  },
  {
   "cell_type": "code",
   "execution_count": 30,
   "id": "3d270932",
   "metadata": {},
   "outputs": [],
   "source": [
    "model=Sequential()\n",
    "model.add(LSTM(50, return_sequences=True, input_shape=(x_train.shape[1],1)))\n",
    "model.add(LSTM(50, return_sequences=False ))\n",
    "model.add(Dense(25))\n",
    "model.add(Dense(1))\n"
   ]
  },
  {
   "cell_type": "code",
   "execution_count": 31,
   "id": "0b5d0188",
   "metadata": {},
   "outputs": [],
   "source": [
    "model.compile(optimizer='adam', loss='mean_squared_error')"
   ]
  },
  {
   "cell_type": "code",
   "execution_count": 32,
   "id": "3eeb1d0c",
   "metadata": {},
   "outputs": [
    {
     "name": "stdout",
     "output_type": "stream",
     "text": [
      "36/36 [==============================] - 9s 35ms/step - loss: 0.0475\n"
     ]
    },
    {
     "data": {
      "text/plain": [
       "<keras.callbacks.History at 0x1be741b7eb0>"
      ]
     },
     "execution_count": 32,
     "metadata": {},
     "output_type": "execute_result"
    }
   ],
   "source": [
    "model.fit(x_train,y_train , batch_size=1, epochs=1)"
   ]
  },
  {
   "cell_type": "code",
   "execution_count": 33,
   "id": "fa498702",
   "metadata": {},
   "outputs": [],
   "source": [
    "test_data=cdf[eig-60:,:]\n",
    "x_test=[]\n",
    "y_test=cdf[eig:,:]\n",
    "for i in range (60 ,len(test_data)):\n",
    "    x_test.append(test_data[i-60:i,0])\n"
   ]
  },
  {
   "cell_type": "code",
   "execution_count": 34,
   "id": "2f68782d",
   "metadata": {},
   "outputs": [],
   "source": [
    "x_test=np.array(x_test)\n",
    "x_test=np.reshape(x_test,(x_test.shape[0],x_test.shape[1],1))\n",
    "y_test=np.array(y_test)"
   ]
  },
  {
   "cell_type": "code",
   "execution_count": 35,
   "id": "6663c43e",
   "metadata": {},
   "outputs": [],
   "source": [
    "predictions=model.predict(x_test)\n",
    "predictions=scaler.inverse_transform(predictions)\n",
    "y_test=scaler.inverse_transform(y_test)"
   ]
  },
  {
   "cell_type": "code",
   "execution_count": 36,
   "id": "ed3b19ce",
   "metadata": {},
   "outputs": [
    {
     "data": {
      "text/plain": [
       "4.624320882161458"
      ]
     },
     "execution_count": 36,
     "metadata": {},
     "output_type": "execute_result"
    }
   ],
   "source": [
    "rmse=np.sqrt(np.mean(predictions-y_test)**2)\n",
    "rmse"
   ]
  },
  {
   "cell_type": "code",
   "execution_count": 37,
   "id": "52ebe44b",
   "metadata": {},
   "outputs": [
    {
     "data": {
      "text/plain": [
       "<matplotlib.legend.Legend at 0x1be7a09ed70>"
      ]
     },
     "execution_count": 37,
     "metadata": {},
     "output_type": "execute_result"
    },
    {
     "data": {
      "image/png": "[encoded data removed]",
      "text/plain": [
       "<Figure size 432x288 with 1 Axes>"
      ]
     },
     "metadata": {
      "needs_background": "light"
     },
     "output_type": "display_data"
    }
   ],
   "source": [
    "# plt.plot(predictions,color='red',label='predictions')\n",
    "# plt.plot(y_test,color='blue',label='actual stocks')\n",
    "# plt.legend()\n"
   ]
  },
  {
   "cell_type": "code",
   "execution_count": null,
   "metadata": {},
   "outputs": [],
   "source": []
  }
 ],
 "metadata": {
  "kernelspec": {
   "display_name": "Python 3.10.4 ('virenv1')",
   "language": "python",
   "name": "python3"
  },
  "language_info": {
   "codemirror_mode": {
    "name": "ipython",
    "version": 3
   },
   "file_extension": ".py",
   "mimetype": "text/x-python",
   "name": "python",
   "nbconvert_exporter": "python",
   "pygments_lexer": "ipython3",
   "version": "3.10.4"
  },
  "orig_nbformat": 4,
  "vscode": {
   "interpreter": {
    "hash": "a6ec2c38114f0b3e6c8bd201a524dc30ddb598bf0d942166febb87dafe3eac9c"
   }
  }
 },
 "nbformat": 4,
 "nbformat_minor": 2
}
